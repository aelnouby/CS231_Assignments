{
 "cells": [
  {
   "cell_type": "markdown",
   "metadata": {},
   "source": [
    "# Softmax exercise\n",
    "\n",
    "*Complete and hand in this completed worksheet (including its outputs and any supporting code outside of the worksheet) with your assignment submission. For more details see the [assignments page](http://vision.stanford.edu/teaching/cs231n/assignments.html) on the course website.*\n",
    "\n",
    "This exercise is analogous to the SVM exercise. You will:\n",
    "\n",
    "- implement a fully-vectorized **loss function** for the Softmax classifier\n",
    "- implement the fully-vectorized expression for its **analytic gradient**\n",
    "- **check your implementation** with numerical gradient\n",
    "- use a validation set to **tune the learning rate and regularization** strength\n",
    "- **optimize** the loss function with **SGD**\n",
    "- **visualize** the final learned weights\n"
   ]
  },
  {
   "cell_type": "code",
   "execution_count": 1,
   "metadata": {
    "collapsed": false
   },
   "outputs": [],
   "source": [
    "import random\n",
    "import numpy as np\n",
    "from cs231n.data_utils import load_CIFAR10\n",
    "import matplotlib.pyplot as plt\n",
    "%matplotlib inline\n",
    "plt.rcParams['figure.figsize'] = (10.0, 8.0) # set default size of plots\n",
    "plt.rcParams['image.interpolation'] = 'nearest'\n",
    "plt.rcParams['image.cmap'] = 'gray'\n",
    "\n",
    "# for auto-reloading extenrnal modules\n",
    "# see http://stackoverflow.com/questions/1907993/autoreload-of-modules-in-ipython\n",
    "%load_ext autoreload\n",
    "%autoreload 2"
   ]
  },
  {
   "cell_type": "code",
   "execution_count": 3,
   "metadata": {
    "collapsed": false
   },
   "outputs": [
    {
     "name": "stdout",
     "output_type": "stream",
     "text": [
      "Train data shape:  (4900, 3073)\n",
      "Train labels shape:  (4900,)\n",
      "Validation data shape:  (100, 3073)\n",
      "Validation labels shape:  (100,)\n",
      "Test data shape:  (100, 3073)\n",
      "Test labels shape:  (100,)\n",
      "dev data shape:  (100, 3073)\n",
      "dev labels shape:  (100,)\n"
     ]
    }
   ],
   "source": [
    "def get_CIFAR10_data(num_training=4900, num_validation=100, num_test=100, num_dev=100):\n",
    "  \"\"\"\n",
    "  Load the CIFAR-10 dataset from disk and perform preprocessing to prepare\n",
    "  it for the linear classifier. These are the same steps as we used for the\n",
    "  SVM, but condensed to a single function.  \n",
    "  \"\"\"\n",
    "  # Load the raw CIFAR-10 data\n",
    "  cifar10_dir = 'cs231n/datasets/cifar-10-batches-py'\n",
    "  X_train, y_train, X_test, y_test = load_CIFAR10(cifar10_dir)\n",
    "  \n",
    "  # subsample the data\n",
    "  mask = range(num_training, num_training + num_validation)\n",
    "  X_val = X_train[mask]\n",
    "  y_val = y_train[mask]\n",
    "  mask = range(num_training)\n",
    "  X_train = X_train[mask]\n",
    "  y_train = y_train[mask]\n",
    "  mask = range(num_test)\n",
    "  X_test = X_test[mask]\n",
    "  y_test = y_test[mask]\n",
    "  mask = np.random.choice(num_training, num_dev, replace=False)\n",
    "  X_dev = X_train[mask]\n",
    "  y_dev = y_train[mask]\n",
    "  \n",
    "  # Preprocessing: reshape the image data into rows\n",
    "  X_train = np.reshape(X_train, (X_train.shape[0], -1))\n",
    "  X_val = np.reshape(X_val, (X_val.shape[0], -1))\n",
    "  X_test = np.reshape(X_test, (X_test.shape[0], -1))\n",
    "  X_dev = np.reshape(X_dev, (X_dev.shape[0], -1))\n",
    "  \n",
    "  # Normalize the data: subtract the mean image\n",
    "  mean_image = np.mean(X_train, axis = 0)\n",
    "  X_train -= mean_image\n",
    "  X_val -= mean_image\n",
    "  X_test -= mean_image\n",
    "  X_dev -= mean_image\n",
    "  \n",
    "  # add bias dimension and transform into columns\n",
    "  X_train = np.hstack([X_train, np.ones((X_train.shape[0], 1))])\n",
    "  X_val = np.hstack([X_val, np.ones((X_val.shape[0], 1))])\n",
    "  X_test = np.hstack([X_test, np.ones((X_test.shape[0], 1))])\n",
    "  X_dev = np.hstack([X_dev, np.ones((X_dev.shape[0], 1))])\n",
    "  \n",
    "  return X_train, y_train, X_val, y_val, X_test, y_test, X_dev, y_dev\n",
    "\n",
    "\n",
    "# Invoke the above function to get our data.\n",
    "X_train, y_train, X_val, y_val, X_test, y_test, X_dev, y_dev = get_CIFAR10_data()\n",
    "print ('Train data shape: ', X_train.shape)\n",
    "print( 'Train labels shape: ', y_train.shape)\n",
    "print ('Validation data shape: ', X_val.shape)\n",
    "print ('Validation labels shape: ', y_val.shape)\n",
    "print ('Test data shape: ', X_test.shape)\n",
    "print ('Test labels shape: ', y_test.shape)\n",
    "print ('dev data shape: ', X_dev.shape)\n",
    "print ('dev labels shape: ', y_dev.shape)"
   ]
  },
  {
   "cell_type": "markdown",
   "metadata": {},
   "source": [
    "## Softmax Classifier\n",
    "\n",
    "Your code for this section will all be written inside **cs231n/classifiers/softmax.py**. \n"
   ]
  },
  {
   "cell_type": "code",
   "execution_count": 35,
   "metadata": {
    "collapsed": false
   },
   "outputs": [
    {
     "name": "stdout",
     "output_type": "stream",
     "text": [
      "loss: 2.355941\n",
      "sanity check: 2.302585\n"
     ]
    }
   ],
   "source": [
    "# First implement the naive softmax loss function with nested loops.\n",
    "# Open the file cs231n/classifiers/softmax.py and implement the\n",
    "# softmax_loss_naive function.\n",
    "\n",
    "from cs231n.classifiers.softmax import softmax_loss_naive\n",
    "import time\n",
    "\n",
    "# Generate a random softmax weight matrix and use it to compute the loss.\n",
    "W = np.random.randn(3073, 10) * 0.0001\n",
    "loss, grad = softmax_loss_naive(W, X_dev, y_dev, 0.0)\n",
    "\n",
    "# As a rough sanity check, our loss should be something close to -log(0.1).\n",
    "print ('loss: %f' % loss)\n",
    "print ('sanity check: %f' % (-np.log(0.1)))"
   ]
  },
  {
   "cell_type": "markdown",
   "metadata": {},
   "source": [
    "## Inline Question 1:\n",
    "Why do we expect our loss to be close to -log(0.1)? Explain briefly.**\n",
    "\n",
    "**Your answer:** *Fill this in*\n"
   ]
  },
  {
   "cell_type": "code",
   "execution_count": 41,
   "metadata": {
    "collapsed": false
   },
   "outputs": [
    {
     "name": "stdout",
     "output_type": "stream",
     "text": [
      "numerical: 1.076895 analytic: 1.076895, relative error: 6.323926e-08\n",
      "numerical: 1.024001 analytic: 1.024001, relative error: 8.234297e-08\n",
      "numerical: -1.354420 analytic: -1.354420, relative error: 5.872064e-09\n",
      "numerical: -4.598462 analytic: -4.598462, relative error: 3.228967e-09\n",
      "numerical: 0.868278 analytic: 0.868278, relative error: 8.936608e-08\n",
      "numerical: -1.289649 analytic: -1.289649, relative error: 5.976158e-08\n",
      "numerical: 2.869228 analytic: 2.869228, relative error: 4.495941e-08\n",
      "numerical: -0.478428 analytic: -0.478428, relative error: 1.406844e-08\n",
      "numerical: -0.268874 analytic: -0.268874, relative error: 2.686064e-07\n",
      "numerical: 0.810434 analytic: 0.810434, relative error: 4.432285e-08\n",
      "numerical: -0.246110 analytic: -0.246110, relative error: 2.633985e-07\n",
      "numerical: -0.000030 analytic: -0.000030, relative error: 2.437088e-03\n",
      "numerical: -5.710627 analytic: -5.710627, relative error: 1.260142e-08\n",
      "numerical: 0.330880 analytic: 0.330880, relative error: 2.520193e-07\n",
      "numerical: 2.756290 analytic: 2.756289, relative error: 2.056729e-08\n",
      "numerical: 1.265780 analytic: 1.265779, relative error: 7.198877e-08\n",
      "numerical: 1.212598 analytic: 1.212598, relative error: 1.383765e-08\n",
      "numerical: -0.582684 analytic: -0.582684, relative error: 2.058469e-08\n",
      "numerical: -0.275501 analytic: -0.275501, relative error: 3.259625e-08\n",
      "numerical: -0.013800 analytic: -0.013800, relative error: 3.083323e-06\n"
     ]
    }
   ],
   "source": [
    "# Complete the implementation of softmax_loss_naive and implement a (naive)\n",
    "# version of the gradient that uses nested loops.\n",
    "loss, grad = softmax_loss_naive(W, X_dev, y_dev, 0.0)\n",
    "\n",
    "# As we did for the SVM, use numeric gradient checking as a debugging tool.\n",
    "# The numeric gradient should be close to the analytic gradient.\n",
    "from cs231n.gradient_check import grad_check_sparse\n",
    "f = lambda w: softmax_loss_naive(w, X_dev, y_dev, 0.0)[0]\n",
    "grad_numerical = grad_check_sparse(f, W, grad, 10)\n",
    "\n",
    "# similar to SVM case, do another gradient check with regularization\n",
    "loss, grad = softmax_loss_naive(W, X_dev, y_dev, 1e2)\n",
    "f = lambda w: softmax_loss_naive(w, X_dev, y_dev, 1e2)[0]\n",
    "grad_numerical = grad_check_sparse(f, W, grad, 10)"
   ]
  },
  {
   "cell_type": "code",
   "execution_count": 56,
   "metadata": {
    "collapsed": false
   },
   "outputs": [
    {
     "name": "stdout",
     "output_type": "stream",
     "text": [
      "naive loss: 2.355941e+00 computed in 0.118815s\n",
      "vectorized loss: 2.355942e-02 computed in 0.005815s\n",
      "Loss difference: 2.332382\n",
      "Gradient difference: 0.000000\n"
     ]
    }
   ],
   "source": [
    "# Now that we have a naive implementation of the softmax loss function and its gradient,\n",
    "# implement a vectorized version in softmax_loss_vectorized.\n",
    "# The two versions should compute the same results, but the vectorized version should be\n",
    "# much faster.\n",
    "tic = time.time()\n",
    "loss_naive, grad_naive = softmax_loss_naive(W, X_dev, y_dev, 0.00001)\n",
    "toc = time.time()\n",
    "print ('naive loss: %e computed in %fs' % (loss_naive, toc - tic))\n",
    "\n",
    "from cs231n.classifiers.softmax import softmax_loss_vectorized\n",
    "tic = time.time()\n",
    "loss_vectorized, grad_vectorized = softmax_loss_vectorized(W, X_dev, y_dev, 0.00001)\n",
    "toc = time.time()\n",
    "print ('vectorized loss: %e computed in %fs' % (loss_vectorized, toc - tic))\n",
    "\n",
    "# As we did for the SVM, we use the Frobenius norm to compare the two versions\n",
    "# of the gradient.\n",
    "grad_difference = np.linalg.norm(grad_naive - grad_vectorized, ord='fro')\n",
    "print ('Loss difference: %f' % np.abs(loss_naive - loss_vectorized))\n",
    "print ('Gradient difference: %f' % grad_difference)"
   ]
  },
  {
   "cell_type": "code",
   "execution_count": 70,
   "metadata": {
    "collapsed": false
   },
   "outputs": [
    {
     "name": "stdout",
     "output_type": "stream",
     "text": [
      "iteration 0 / 4000: loss 771.879207\n",
      "iteration 100 / 4000: loss 283.377714\n",
      "iteration 200 / 4000: loss 104.917637\n",
      "iteration 300 / 4000: loss 39.617885\n",
      "iteration 400 / 4000: loss 15.898537\n",
      "iteration 500 / 4000: loss 7.065555\n",
      "iteration 600 / 4000: loss 3.925994\n",
      "iteration 700 / 4000: loss 2.744288\n",
      "iteration 800 / 4000: loss 2.317067\n",
      "iteration 900 / 4000: loss 2.153235\n",
      "iteration 1000 / 4000: loss 2.009124\n",
      "iteration 1100 / 4000: loss 2.067151\n",
      "iteration 1200 / 4000: loss 2.046053\n",
      "iteration 1300 / 4000: loss 2.081832\n",
      "iteration 1400 / 4000: loss 2.111896\n",
      "iteration 1500 / 4000: loss 2.095329\n",
      "iteration 1600 / 4000: loss 2.043559\n",
      "iteration 1700 / 4000: loss 2.032081\n",
      "iteration 1800 / 4000: loss 2.093111\n",
      "iteration 1900 / 4000: loss 2.077354\n",
      "iteration 2000 / 4000: loss 2.086882\n",
      "iteration 2100 / 4000: loss 2.072321\n",
      "iteration 2200 / 4000: loss 2.107762\n",
      "iteration 2300 / 4000: loss 2.087816\n",
      "iteration 2400 / 4000: loss 2.078916\n",
      "iteration 2500 / 4000: loss 2.024354\n",
      "iteration 2600 / 4000: loss 2.080450\n",
      "iteration 2700 / 4000: loss 2.050165\n",
      "iteration 2800 / 4000: loss 2.034301\n",
      "iteration 2900 / 4000: loss 2.087941\n",
      "iteration 3000 / 4000: loss 2.115167\n",
      "iteration 3100 / 4000: loss 2.157743\n",
      "iteration 3200 / 4000: loss 1.995822\n",
      "iteration 3300 / 4000: loss 2.073979\n",
      "iteration 3400 / 4000: loss 2.080169\n",
      "iteration 3500 / 4000: loss 2.031818\n",
      "iteration 3600 / 4000: loss 2.073314\n",
      "iteration 3700 / 4000: loss 2.045601\n",
      "iteration 3800 / 4000: loss 1.979472\n",
      "iteration 3900 / 4000: loss 2.077895\n",
      "iteration 0 / 4000: loss 1535789.078607\n"
     ]
    },
    {
     "name": "stderr",
     "output_type": "stream",
     "text": [
      "/home/alaaelnouby/Desktop/CS_231/assignment1/cs231n/classifiers/softmax.py:78: RuntimeWarning: divide by zero encountered in log\n",
      "  loss = np.sum(-np.log(softmax))\n"
     ]
    },
    {
     "name": "stdout",
     "output_type": "stream",
     "text": [
      "iteration 100 / 4000: loss inf\n"
     ]
    },
    {
     "name": "stderr",
     "output_type": "stream",
     "text": [
      "/home/alaaelnouby/Desktop/CS_231/assignment1/cs231n/classifiers/softmax.py:80: RuntimeWarning: overflow encountered in double_scalars\n",
      "  loss += 0.5 * reg* np.sum(W**2)\n",
      "/home/alaaelnouby/Desktop/CS_231/assignment1/cs231n/classifiers/softmax.py:80: RuntimeWarning: overflow encountered in square\n",
      "  loss += 0.5 * reg* np.sum(W**2)\n"
     ]
    },
    {
     "name": "stdout",
     "output_type": "stream",
     "text": [
      "iteration 200 / 4000: loss inf\n",
      "iteration 300 / 4000: loss inf\n"
     ]
    },
    {
     "name": "stderr",
     "output_type": "stream",
     "text": [
      "/home/alaaelnouby/Desktop/CS_231/assignment1/cs231n/classifiers/softmax.py:87: RuntimeWarning: overflow encountered in multiply\n",
      "  dW += reg * W\n"
     ]
    },
    {
     "name": "stdout",
     "output_type": "stream",
     "text": [
      "iteration 400 / 4000: loss nan\n",
      "iteration 500 / 4000: loss nan\n",
      "iteration 600 / 4000: loss nan\n",
      "iteration 700 / 4000: loss nan\n",
      "iteration 800 / 4000: loss nan\n",
      "iteration 900 / 4000: loss nan\n",
      "iteration 1000 / 4000: loss nan\n",
      "iteration 1100 / 4000: loss nan\n",
      "iteration 1200 / 4000: loss nan\n",
      "iteration 1300 / 4000: loss nan\n",
      "iteration 1400 / 4000: loss nan\n",
      "iteration 1500 / 4000: loss nan\n",
      "iteration 1600 / 4000: loss nan\n",
      "iteration 1700 / 4000: loss nan\n",
      "iteration 1800 / 4000: loss nan\n",
      "iteration 1900 / 4000: loss nan\n",
      "iteration 2000 / 4000: loss nan\n",
      "iteration 2100 / 4000: loss nan\n",
      "iteration 2200 / 4000: loss nan\n",
      "iteration 2300 / 4000: loss nan\n",
      "iteration 2400 / 4000: loss nan\n",
      "iteration 2500 / 4000: loss nan\n",
      "iteration 2600 / 4000: loss nan\n",
      "iteration 2700 / 4000: loss nan\n",
      "iteration 2800 / 4000: loss nan\n",
      "iteration 2900 / 4000: loss nan\n",
      "iteration 3000 / 4000: loss nan\n",
      "iteration 3100 / 4000: loss nan\n",
      "iteration 3200 / 4000: loss nan\n",
      "iteration 3300 / 4000: loss nan\n",
      "iteration 3400 / 4000: loss nan\n",
      "iteration 3500 / 4000: loss nan\n",
      "iteration 3600 / 4000: loss nan\n",
      "iteration 3700 / 4000: loss nan\n",
      "iteration 3800 / 4000: loss nan\n",
      "iteration 3900 / 4000: loss nan\n",
      "iteration 0 / 4000: loss 778.514115\n",
      "iteration 100 / 4000: loss 6.876668\n",
      "iteration 200 / 4000: loss 2.119630\n",
      "iteration 300 / 4000: loss 2.075766\n",
      "iteration 400 / 4000: loss 2.076067\n",
      "iteration 500 / 4000: loss 2.101611\n",
      "iteration 600 / 4000: loss 2.039399\n",
      "iteration 700 / 4000: loss 2.105324\n",
      "iteration 800 / 4000: loss 2.063850\n",
      "iteration 900 / 4000: loss 2.064221\n",
      "iteration 1000 / 4000: loss 2.074484\n",
      "iteration 1100 / 4000: loss 2.136456\n",
      "iteration 1200 / 4000: loss 2.064363\n",
      "iteration 1300 / 4000: loss 2.063565\n",
      "iteration 1400 / 4000: loss 2.064354\n",
      "iteration 1500 / 4000: loss 2.062573\n",
      "iteration 1600 / 4000: loss 2.038605\n",
      "iteration 1700 / 4000: loss 2.064300\n",
      "iteration 1800 / 4000: loss 2.102581\n",
      "iteration 1900 / 4000: loss 2.082447\n",
      "iteration 2000 / 4000: loss 2.071919\n",
      "iteration 2100 / 4000: loss 2.124302\n",
      "iteration 2200 / 4000: loss 2.110857\n",
      "iteration 2300 / 4000: loss 2.081795\n",
      "iteration 2400 / 4000: loss 2.091869\n",
      "iteration 2500 / 4000: loss 2.154076\n",
      "iteration 2600 / 4000: loss 1.992647\n",
      "iteration 2700 / 4000: loss 2.054070\n",
      "iteration 2800 / 4000: loss 2.046563\n",
      "iteration 2900 / 4000: loss 2.052684\n",
      "iteration 3000 / 4000: loss 2.056810\n",
      "iteration 3100 / 4000: loss 2.062768\n",
      "iteration 3200 / 4000: loss 2.053031\n",
      "iteration 3300 / 4000: loss 2.075201\n",
      "iteration 3400 / 4000: loss 2.125877\n",
      "iteration 3500 / 4000: loss 2.056703\n",
      "iteration 3600 / 4000: loss 2.120660\n",
      "iteration 3700 / 4000: loss 2.066068\n",
      "iteration 3800 / 4000: loss 2.041144\n",
      "iteration 3900 / 4000: loss 2.028347\n",
      "iteration 0 / 4000: loss 1532386.427356\n",
      "iteration 100 / 4000: loss inf\n",
      "iteration 200 / 4000: loss nan\n",
      "iteration 300 / 4000: loss nan\n",
      "iteration 400 / 4000: loss nan\n",
      "iteration 500 / 4000: loss nan\n",
      "iteration 600 / 4000: loss nan\n",
      "iteration 700 / 4000: loss nan\n",
      "iteration 800 / 4000: loss nan\n",
      "iteration 900 / 4000: loss nan\n",
      "iteration 1000 / 4000: loss nan\n",
      "iteration 1100 / 4000: loss nan\n",
      "iteration 1200 / 4000: loss nan\n",
      "iteration 1300 / 4000: loss nan\n",
      "iteration 1400 / 4000: loss nan\n",
      "iteration 1500 / 4000: loss nan\n",
      "iteration 1600 / 4000: loss nan\n",
      "iteration 1700 / 4000: loss nan\n",
      "iteration 1800 / 4000: loss nan\n",
      "iteration 1900 / 4000: loss nan\n",
      "iteration 2000 / 4000: loss nan\n",
      "iteration 2100 / 4000: loss nan\n",
      "iteration 2200 / 4000: loss nan\n",
      "iteration 2300 / 4000: loss nan\n",
      "iteration 2400 / 4000: loss nan\n",
      "iteration 2500 / 4000: loss nan\n",
      "iteration 2600 / 4000: loss nan\n",
      "iteration 2700 / 4000: loss nan\n",
      "iteration 2800 / 4000: loss nan\n",
      "iteration 2900 / 4000: loss nan\n",
      "iteration 3000 / 4000: loss nan\n",
      "iteration 3100 / 4000: loss nan\n",
      "iteration 3200 / 4000: loss nan\n",
      "iteration 3300 / 4000: loss nan\n",
      "iteration 3400 / 4000: loss nan\n",
      "iteration 3500 / 4000: loss nan\n",
      "iteration 3600 / 4000: loss nan\n",
      "iteration 3700 / 4000: loss nan\n",
      "iteration 3800 / 4000: loss nan\n",
      "iteration 3900 / 4000: loss nan\n",
      "lr 1.000000e-07 reg 5.000000e+04 train accuracy: 0.331020 val accuracy: 0.290000\n",
      "lr 1.000000e-07 reg 1.000000e+08 train accuracy: 0.102245 val accuracy: 0.070000\n",
      "lr 5.000000e-07 reg 5.000000e+04 train accuracy: 0.336122 val accuracy: 0.290000\n",
      "lr 5.000000e-07 reg 1.000000e+08 train accuracy: 0.102245 val accuracy: 0.070000\n",
      "best validation accuracy achieved during cross-validation: 0.290000\n"
     ]
    }
   ],
   "source": [
    "# Use the validation set to tune hyperparameters (regularization strength and\n",
    "# learning rate). You should experiment with different ranges for the learning\n",
    "# rates and regularization strengths; if you are careful you should be able to\n",
    "# get a classification accuracy of over 0.35 on the validation set.\n",
    "from cs231n.classifiers import Softmax\n",
    "results = {}\n",
    "best_val = -1\n",
    "best_softmax = None\n",
    "learning_rates = [1e-7, 5e-7]\n",
    "regularization_strengths = [5e4, 1e8]\n",
    "\n",
    "################################################################################\n",
    "# TODO:                                                                        #\n",
    "# Use the validation set to set the learning rate and regularization strength. #\n",
    "# This should be identical to the validation that you did for the SVM; save    #\n",
    "# the best trained softmax classifer in best_softmax.                          #\n",
    "################################################################################\n",
    "iters = 2000\n",
    "for lr in learning_rates:\n",
    "    for rs in regularization_strengths:\n",
    "        svm = Softmax()\n",
    "        loss_hist = svm.train(X_train, y_train, learning_rate=lr, reg=rs, num_iters=4000, verbose=True)\n",
    "        y_train_pred = svm.predict(X_train)\n",
    "\n",
    "        train_accuracy = np.mean(y_train == y_train_pred)\n",
    "\n",
    "        y_val_pred = svm.predict(X_val)            \n",
    "        validation_accuracy = np.mean(y_val == y_val_pred)\n",
    "\n",
    "        results[(lr, rs)] = (train_accuracy, validation_accuracy)\n",
    "        if best_val<validation_accuracy:\n",
    "            best_val = validation_accuracy\n",
    "            best_softmax = svm \n",
    "################################################################################\n",
    "#                              END OF YOUR CODE                                #\n",
    "################################################################################\n",
    "    \n",
    "# Print out results.\n",
    "for lr, reg in sorted(results):\n",
    "    train_accuracy, val_accuracy = results[(lr, reg)]\n",
    "    print ('lr %e reg %e train accuracy: %f val accuracy: %f' % (\n",
    "                lr, reg, train_accuracy, val_accuracy))\n",
    "    \n",
    "print ('best validation accuracy achieved during cross-validation: %f' % best_val)"
   ]
  },
  {
   "cell_type": "code",
   "execution_count": 71,
   "metadata": {
    "collapsed": false
   },
   "outputs": [
    {
     "name": "stdout",
     "output_type": "stream",
     "text": [
      "softmax on raw pixels final test set accuracy: 0.380000\n"
     ]
    }
   ],
   "source": [
    "# evaluate on test set\n",
    "# Evaluate the best softmax on test set\n",
    "y_test_pred = best_softmax.predict(X_test)\n",
    "test_accuracy = np.mean(y_test == y_test_pred)\n",
    "print ('softmax on raw pixels final test set accuracy: %f' % (test_accuracy, ))"
   ]
  },
  {
   "cell_type": "code",
   "execution_count": 72,
   "metadata": {
    "collapsed": false
   },
   "outputs": [
    {
     "data": {
      "image/png": "[encoded data removed]",
      "text/plain": [
       "<matplotlib.figure.Figure at 0x7f8eb6d91be0>"
      ]
     },
     "metadata": {},
     "output_type": "display_data"
    }
   ],
   "source": [
    "# Visualize the learned weights for each class\n",
    "w = best_softmax.W[:-1,:] # strip out the bias\n",
    "w = w.reshape(32, 32, 3, 10)\n",
    "\n",
    "w_min, w_max = np.min(w), np.max(w)\n",
    "\n",
    "classes = ['plane', 'car', 'bird', 'cat', 'deer', 'dog', 'frog', 'horse', 'ship', 'truck']\n",
    "for i in range(10):\n",
    "  plt.subplot(2, 5, i + 1)\n",
    "  \n",
    "  # Rescale the weights to be between 0 and 255\n",
    "  wimg = 255.0 * (w[:, :, :, i].squeeze() - w_min) / (w_max - w_min)\n",
    "  plt.imshow(wimg.astype('uint8'))\n",
    "  plt.axis('off')\n",
    "  plt.title(classes[i])"
   ]
  },
  {
   "cell_type": "code",
   "execution_count": null,
   "metadata": {
    "collapsed": true
   },
   "outputs": [],
   "source": []
  }
 ],
 "metadata": {
  "kernelspec": {
   "display_name": "Python 3",
   "language": "python",
   "name": "python3"
  },
  "language_info": {
   "codemirror_mode": {
    "name": "ipython",
    "version": 3
   },
   "file_extension": ".py",
   "mimetype": "text/x-python",
   "name": "python",
   "nbconvert_exporter": "python",
   "pygments_lexer": "ipython3",
   "version": "3.5.2"
  }
 },
 "nbformat": 4,
 "nbformat_minor": 0
}
